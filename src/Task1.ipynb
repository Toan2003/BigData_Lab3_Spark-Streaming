{
 "cells": [
  {
   "cell_type": "code",
   "execution_count": 9,
   "id": "23970e29-72ec-422f-821a-6f49ebb1db24",
   "metadata": {},
   "outputs": [],
   "source": [
    "from pyspark.sql.types import StructType, StructField, StringType, TimestampType, DoubleType, IntegerType\n",
    "from pyspark.sql import SparkSession\n",
    "from pyspark.sql.functions import col, lit, window, when, count"
   ]
  },
  {
   "cell_type": "code",
   "execution_count": 1,
   "id": "1f1201b2-408a-4d50-9cd8-9fdd6f13305e",
   "metadata": {},
   "outputs": [],
   "source": [
    "inputPath = \"file:///root/DataScience/Spark/Lab3/taxi-data\""
   ]
  },
  {
   "cell_type": "code",
   "execution_count": 3,
   "id": "2accb437-d630-4369-ae56-547262f47d43",
   "metadata": {},
   "outputs": [
    {
     "name": "stderr",
     "output_type": "stream",
     "text": [
      "24/05/20 20:00:15 WARN Utils: Your hostname, DESKTOP-MINMIN resolves to a loopback address: 127.0.1.1; using 172.24.159.154 instead (on interface eth0)\n",
      "24/05/20 20:00:15 WARN Utils: Set SPARK_LOCAL_IP if you need to bind to another address\n",
      "Setting default log level to \"WARN\".\n",
      "To adjust logging level use sc.setLogLevel(newLevel). For SparkR, use setLogLevel(newLevel).\n",
      "24/05/20 20:00:16 WARN NativeCodeLoader: Unable to load native-hadoop library for your platform... using builtin-java classes where applicable\n",
      "24/05/20 20:00:17 WARN Utils: Service 'SparkUI' could not bind on port 4040. Attempting port 4041.\n"
     ]
    }
   ],
   "source": [
    "# Initialize Spark Session\n",
    "spark = SparkSession.builder.master(\"local\")\\\n",
    "    .appName(\"Task 1 - Lab 03\")\\\n",
    "    .config(\"spark.some.config.option\", \"some-value\")\\\n",
    "    .getOrCreate()\n",
    "\n",
    "spark.conf.set(\"spark.sql.streaming.forceDeleteTempCheckpointLocation\", \"true\")\n",
    "spark.conf.set(\"spark.sql.streaming.statefulOperator.checkCorrectness.enabled\", \"false\")"
   ]
  },
  {
   "cell_type": "code",
   "execution_count": 4,
   "id": "74a6931e-c9d4-4259-beb4-f2c1cbe6658e",
   "metadata": {},
   "outputs": [],
   "source": [
    "# Define the schema for yellow taxi rides\n",
    "schema_yellow = StructType() \\\n",
    "    .add(\"type\", StringType()) \\\n",
    "    .add(\"VendorID\", StringType()) \\\n",
    "    .add(\"tpep_pickup_datetime\", TimestampType()) \\\n",
    "    .add(\"tpep_dropoff_datetime\", TimestampType()) \\\n",
    "    .add(\"passenger_count\", StringType()) \\\n",
    "    .add(\"trip_distance\", StringType()) \\\n",
    "    .add(\"pickup_longitude\", DoubleType()) \\\n",
    "    .add(\"pickup_latitude\", DoubleType()) \\\n",
    "    .add(\"RatecodeID\", StringType()) \\\n",
    "    .add(\"store_and_fwd_flag\", StringType()) \\\n",
    "    .add(\"dropoff_longitude\", DoubleType()) \\\n",
    "    .add(\"dropoff_latitude\", DoubleType()) \\\n",
    "    .add(\"payment_type\", StringType()) \\\n",
    "    .add(\"fare_amount\", StringType()) \\\n",
    "    .add(\"extra\", StringType()) \\\n",
    "    .add(\"mta_tax\", StringType()) \\\n",
    "    .add(\"tip_amount\", StringType()) \\\n",
    "    .add(\"tolls_amount\", StringType()) \\\n",
    "    .add(\"improvement_surcharge\", StringType()) \\\n",
    "    .add(\"total_amount\", StringType())\n",
    "\n",
    "# Define the schema for green taxi rides\n",
    "schema_green = StructType() \\\n",
    "    .add(\"type\", StringType()) \\\n",
    "    .add(\"VendorID\", StringType()) \\\n",
    "    .add(\"lpep_pickup_datetime\", TimestampType()) \\\n",
    "    .add(\"lpep_dropoff_datetime\", TimestampType()) \\\n",
    "    .add(\"store_and_fwd_flag\", StringType()) \\\n",
    "    .add(\"RatecodeID\", StringType()) \\\n",
    "    .add(\"pickup_longitude\", DoubleType()) \\\n",
    "    .add(\"pickup_latitude\", DoubleType()) \\\n",
    "    .add(\"dropoff_longitude\", DoubleType()) \\\n",
    "    .add(\"dropoff_latitude\", DoubleType()) \\\n",
    "    .add(\"passenger_count\", StringType()) \\\n",
    "    .add(\"trip_distance\", StringType()) \\\n",
    "    .add(\"fare_amount\", StringType()) \\\n",
    "    .add(\"extra\", StringType()) \\\n",
    "    .add(\"mta_tax\", StringType()) \\\n",
    "    .add(\"tip_amount\", StringType()) \\\n",
    "    .add(\"tolls_amount\", StringType()) \\\n",
    "    .add(\"ehail_fee\", StringType()) \\\n",
    "    .add(\"improvement_surcharge\", StringType()) \\\n",
    "    .add(\"total_amount\", StringType()) \\\n",
    "    .add(\"payment_type\", StringType()) \\\n",
    "    .add(\"trip_type\", StringType())\n",
    "\n",
    "default_schema = StructType([\n",
    "    StructField(\"_c0\", StringType(), True),\n",
    "    StructField(\"_c1\", StringType(), True),\n",
    "    StructField(\"_c2\", StringType(), True),\n",
    "    StructField(\"_c3\", StringType(), True),\n",
    "    StructField(\"_c4\", StringType(), True),\n",
    "    StructField(\"_c5\", StringType(), True),\n",
    "    StructField(\"_c6\", StringType(), True),\n",
    "    StructField(\"_c7\", StringType(), True),\n",
    "    StructField(\"_c8\", StringType(), True),\n",
    "    StructField(\"_c9\", StringType(), True),\n",
    "    StructField(\"_c10\", StringType(), True),\n",
    "    StructField(\"_c11\", StringType(), True),\n",
    "    StructField(\"_c12\", StringType(), True),\n",
    "    StructField(\"_c13\", StringType(), True),\n",
    "    StructField(\"_c14\", StringType(), True),\n",
    "    StructField(\"_c15\", StringType(), True),\n",
    "    StructField(\"_c16\", StringType(), True),\n",
    "    StructField(\"_c17\", StringType(), True),\n",
    "    StructField(\"_c18\", StringType(), True),\n",
    "    StructField(\"_c19\", StringType(), True),\n",
    "    StructField(\"_c20\", StringType(), True),\n",
    "    StructField(\"_c21\", StringType(), True)\n",
    "])"
   ]
  },
  {
   "cell_type": "code",
   "execution_count": 5,
   "id": "66fd1d1a-c9bb-40b7-baaa-5921d52b2514",
   "metadata": {},
   "outputs": [],
   "source": [
    "default_df = (\n",
    "    spark.readStream\n",
    "    .format(\"csv\")\n",
    "    .schema(default_schema)\n",
    "    .option(\"header\", \"false\")\n",
    "    .load(inputPath)\n",
    ")"
   ]
  },
  {
   "cell_type": "code",
   "execution_count": 6,
   "id": "309e701a-5141-4edc-84e9-5c1c41ce2b88",
   "metadata": {},
   "outputs": [
    {
     "name": "stdout",
     "output_type": "stream",
     "text": [
      "root\n",
      " |-- type: string (nullable = true)\n",
      " |-- VendorID: string (nullable = true)\n",
      " |-- tpep_pickup_datetime: timestamp (nullable = true)\n",
      " |-- tpep_dropoff_datetime: timestamp (nullable = true)\n",
      " |-- passenger_count: string (nullable = true)\n",
      " |-- trip_distance: string (nullable = true)\n",
      " |-- pickup_longitude: double (nullable = true)\n",
      " |-- pickup_latitude: double (nullable = true)\n",
      " |-- RatecodeID: string (nullable = true)\n",
      " |-- store_and_fwd_flag: string (nullable = true)\n",
      " |-- dropoff_longitude: double (nullable = true)\n",
      " |-- dropoff_latitude: double (nullable = true)\n",
      " |-- payment_type: string (nullable = true)\n",
      " |-- fare_amount: string (nullable = true)\n",
      " |-- extra: string (nullable = true)\n",
      " |-- mta_tax: string (nullable = true)\n",
      " |-- tip_amount: string (nullable = true)\n",
      " |-- tolls_amount: string (nullable = true)\n",
      " |-- improvement_surcharge: string (nullable = true)\n",
      " |-- total_amount: string (nullable = true)\n",
      "\n"
     ]
    }
   ],
   "source": [
    "# Filter and apply schema for yellow taxi trips\n",
    "yellow_trips = default_df.filter(col(\"_c0\") == \"yellow\") \\\n",
    "                           .drop(\"_c20\",\"_c21\") \\\n",
    "                           .toDF(*schema_yellow.names)\n",
    "\n",
    "# Convert the columns as per the new schema\n",
    "yellow_df = yellow_trips.withColumn(\"tpep_pickup_datetime\", col(\"tpep_pickup_datetime\").cast(TimestampType())) \\\n",
    "    .withColumn(\"tpep_dropoff_datetime\", col(\"tpep_dropoff_datetime\").cast(TimestampType())) \\\n",
    "    .withColumn(\"pickup_longitude\", col(\"pickup_longitude\").cast(DoubleType())) \\\n",
    "    .withColumn(\"pickup_latitude\", col(\"pickup_latitude\").cast(DoubleType())) \\\n",
    "    .withColumn(\"dropoff_longitude\", col(\"dropoff_longitude\").cast(DoubleType())) \\\n",
    "    .withColumn(\"dropoff_latitude\", col(\"dropoff_latitude\").cast(DoubleType()))\n",
    "\n",
    "yellow_df.printSchema()"
   ]
  },
  {
   "cell_type": "code",
   "execution_count": 7,
   "id": "936f88bc-1e21-470f-a1d7-579437979e61",
   "metadata": {},
   "outputs": [
    {
     "name": "stdout",
     "output_type": "stream",
     "text": [
      "root\n",
      " |-- type: string (nullable = true)\n",
      " |-- VendorID: string (nullable = true)\n",
      " |-- lpep_pickup_datetime: timestamp (nullable = true)\n",
      " |-- lpep_dropoff_datetime: timestamp (nullable = true)\n",
      " |-- store_and_fwd_flag: string (nullable = true)\n",
      " |-- RatecodeID: string (nullable = true)\n",
      " |-- pickup_longitude: double (nullable = true)\n",
      " |-- pickup_latitude: double (nullable = true)\n",
      " |-- dropoff_longitude: double (nullable = true)\n",
      " |-- dropoff_latitude: double (nullable = true)\n",
      " |-- passenger_count: string (nullable = true)\n",
      " |-- trip_distance: string (nullable = true)\n",
      " |-- fare_amount: string (nullable = true)\n",
      " |-- extra: string (nullable = true)\n",
      " |-- mta_tax: string (nullable = true)\n",
      " |-- tip_amount: string (nullable = true)\n",
      " |-- tolls_amount: string (nullable = true)\n",
      " |-- ehail_fee: string (nullable = true)\n",
      " |-- improvement_surcharge: string (nullable = true)\n",
      " |-- total_amount: string (nullable = true)\n",
      " |-- payment_type: string (nullable = true)\n",
      " |-- trip_type: string (nullable = true)\n",
      "\n"
     ]
    }
   ],
   "source": [
    "# Filter and apply schema for green taxi trips\n",
    "green_trips = default_df.filter(col(\"_c0\") == \"green\") \\\n",
    "                           .toDF(*schema_green.names)\n",
    "\n",
    "# Convert the columns as per the new schema\n",
    "green_df = green_trips.withColumn(\"lpep_pickup_datetime\", col(\"lpep_pickup_datetime\").cast(TimestampType())) \\\n",
    "    .withColumn(\"lpep_dropoff_datetime\", col(\"lpep_dropoff_datetime\").cast(TimestampType())) \\\n",
    "    .withColumn(\"pickup_longitude\", col(\"pickup_longitude\").cast(DoubleType())) \\\n",
    "    .withColumn(\"pickup_latitude\", col(\"pickup_latitude\").cast(DoubleType())) \\\n",
    "    .withColumn(\"dropoff_longitude\", col(\"dropoff_longitude\").cast(DoubleType())) \\\n",
    "    .withColumn(\"dropoff_latitude\", col(\"dropoff_latitude\").cast(DoubleType()))\n",
    "\n",
    "green_df.printSchema()"
   ]
  },
  {
   "cell_type": "code",
   "execution_count": 10,
   "id": "ce1ed819-bea2-4e1b-8238-93b57feac33b",
   "metadata": {},
   "outputs": [
    {
     "name": "stdout",
     "output_type": "stream",
     "text": [
      "is ok True\n"
     ]
    }
   ],
   "source": [
    "streamingCountDF = green_df.groupBy(\"VendorID\").agg(\n",
    "    count(when(col(\"VendorID\") == 1, True)).alias(\"VendorID_count\")\n",
    ")\n",
    "\n",
    "print(\"is ok\", streamingCountDF.isStreaming)"
   ]
  },
  {
   "cell_type": "code",
   "execution_count": null,
   "id": "5a5b7d03-300d-4866-b4a4-996f509dd208",
   "metadata": {},
   "outputs": [],
   "source": []
  }
 ],
 "metadata": {
  "kernelspec": {
   "display_name": "Python 3 (ipykernel)",
   "language": "python",
   "name": "python3"
  },
  "language_info": {
   "codemirror_mode": {
    "name": "ipython",
    "version": 3
   },
   "file_extension": ".py",
   "mimetype": "text/x-python",
   "name": "python",
   "nbconvert_exporter": "python",
   "pygments_lexer": "ipython3",
   "version": "3.11.4"
  }
 },
 "nbformat": 4,
 "nbformat_minor": 5
}
